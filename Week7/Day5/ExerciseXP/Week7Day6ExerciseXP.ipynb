{
  "nbformat": 4,
  "nbformat_minor": 0,
  "metadata": {
    "colab": {
      "provenance": []
    },
    "kernelspec": {
      "name": "python3",
      "display_name": "Python 3"
    },
    "language_info": {
      "name": "python"
    }
  },
  "cells": [
    {
      "cell_type": "code",
      "execution_count": 1,
      "metadata": {
        "colab": {
          "base_uri": "https://localhost:8080/",
          "height": 131
        },
        "id": "qIkkiOjDIhFn",
        "outputId": "d6463c58-0a8b-41e5-ecca-70fbf7df0400"
      },
      "outputs": [
        {
          "output_type": "display_data",
          "data": {
            "text/plain": [
              "<IPython.core.display.HTML object>"
            ],
            "text/html": [
              "\n",
              "     <input type=\"file\" id=\"files-fd0e0299-beae-4c77-9d07-06fddb92102a\" name=\"files[]\" multiple disabled\n",
              "        style=\"border:none\" />\n",
              "     <output id=\"result-fd0e0299-beae-4c77-9d07-06fddb92102a\">\n",
              "      Upload widget is only available when the cell has been executed in the\n",
              "      current browser session. Please rerun this cell to enable.\n",
              "      </output>\n",
              "      <script>// Copyright 2017 Google LLC\n",
              "//\n",
              "// Licensed under the Apache License, Version 2.0 (the \"License\");\n",
              "// you may not use this file except in compliance with the License.\n",
              "// You may obtain a copy of the License at\n",
              "//\n",
              "//      http://www.apache.org/licenses/LICENSE-2.0\n",
              "//\n",
              "// Unless required by applicable law or agreed to in writing, software\n",
              "// distributed under the License is distributed on an \"AS IS\" BASIS,\n",
              "// WITHOUT WARRANTIES OR CONDITIONS OF ANY KIND, either express or implied.\n",
              "// See the License for the specific language governing permissions and\n",
              "// limitations under the License.\n",
              "\n",
              "/**\n",
              " * @fileoverview Helpers for google.colab Python module.\n",
              " */\n",
              "(function(scope) {\n",
              "function span(text, styleAttributes = {}) {\n",
              "  const element = document.createElement('span');\n",
              "  element.textContent = text;\n",
              "  for (const key of Object.keys(styleAttributes)) {\n",
              "    element.style[key] = styleAttributes[key];\n",
              "  }\n",
              "  return element;\n",
              "}\n",
              "\n",
              "// Max number of bytes which will be uploaded at a time.\n",
              "const MAX_PAYLOAD_SIZE = 100 * 1024;\n",
              "\n",
              "function _uploadFiles(inputId, outputId) {\n",
              "  const steps = uploadFilesStep(inputId, outputId);\n",
              "  const outputElement = document.getElementById(outputId);\n",
              "  // Cache steps on the outputElement to make it available for the next call\n",
              "  // to uploadFilesContinue from Python.\n",
              "  outputElement.steps = steps;\n",
              "\n",
              "  return _uploadFilesContinue(outputId);\n",
              "}\n",
              "\n",
              "// This is roughly an async generator (not supported in the browser yet),\n",
              "// where there are multiple asynchronous steps and the Python side is going\n",
              "// to poll for completion of each step.\n",
              "// This uses a Promise to block the python side on completion of each step,\n",
              "// then passes the result of the previous step as the input to the next step.\n",
              "function _uploadFilesContinue(outputId) {\n",
              "  const outputElement = document.getElementById(outputId);\n",
              "  const steps = outputElement.steps;\n",
              "\n",
              "  const next = steps.next(outputElement.lastPromiseValue);\n",
              "  return Promise.resolve(next.value.promise).then((value) => {\n",
              "    // Cache the last promise value to make it available to the next\n",
              "    // step of the generator.\n",
              "    outputElement.lastPromiseValue = value;\n",
              "    return next.value.response;\n",
              "  });\n",
              "}\n",
              "\n",
              "/**\n",
              " * Generator function which is called between each async step of the upload\n",
              " * process.\n",
              " * @param {string} inputId Element ID of the input file picker element.\n",
              " * @param {string} outputId Element ID of the output display.\n",
              " * @return {!Iterable<!Object>} Iterable of next steps.\n",
              " */\n",
              "function* uploadFilesStep(inputId, outputId) {\n",
              "  const inputElement = document.getElementById(inputId);\n",
              "  inputElement.disabled = false;\n",
              "\n",
              "  const outputElement = document.getElementById(outputId);\n",
              "  outputElement.innerHTML = '';\n",
              "\n",
              "  const pickedPromise = new Promise((resolve) => {\n",
              "    inputElement.addEventListener('change', (e) => {\n",
              "      resolve(e.target.files);\n",
              "    });\n",
              "  });\n",
              "\n",
              "  const cancel = document.createElement('button');\n",
              "  inputElement.parentElement.appendChild(cancel);\n",
              "  cancel.textContent = 'Cancel upload';\n",
              "  const cancelPromise = new Promise((resolve) => {\n",
              "    cancel.onclick = () => {\n",
              "      resolve(null);\n",
              "    };\n",
              "  });\n",
              "\n",
              "  // Wait for the user to pick the files.\n",
              "  const files = yield {\n",
              "    promise: Promise.race([pickedPromise, cancelPromise]),\n",
              "    response: {\n",
              "      action: 'starting',\n",
              "    }\n",
              "  };\n",
              "\n",
              "  cancel.remove();\n",
              "\n",
              "  // Disable the input element since further picks are not allowed.\n",
              "  inputElement.disabled = true;\n",
              "\n",
              "  if (!files) {\n",
              "    return {\n",
              "      response: {\n",
              "        action: 'complete',\n",
              "      }\n",
              "    };\n",
              "  }\n",
              "\n",
              "  for (const file of files) {\n",
              "    const li = document.createElement('li');\n",
              "    li.append(span(file.name, {fontWeight: 'bold'}));\n",
              "    li.append(span(\n",
              "        `(${file.type || 'n/a'}) - ${file.size} bytes, ` +\n",
              "        `last modified: ${\n",
              "            file.lastModifiedDate ? file.lastModifiedDate.toLocaleDateString() :\n",
              "                                    'n/a'} - `));\n",
              "    const percent = span('0% done');\n",
              "    li.appendChild(percent);\n",
              "\n",
              "    outputElement.appendChild(li);\n",
              "\n",
              "    const fileDataPromise = new Promise((resolve) => {\n",
              "      const reader = new FileReader();\n",
              "      reader.onload = (e) => {\n",
              "        resolve(e.target.result);\n",
              "      };\n",
              "      reader.readAsArrayBuffer(file);\n",
              "    });\n",
              "    // Wait for the data to be ready.\n",
              "    let fileData = yield {\n",
              "      promise: fileDataPromise,\n",
              "      response: {\n",
              "        action: 'continue',\n",
              "      }\n",
              "    };\n",
              "\n",
              "    // Use a chunked sending to avoid message size limits. See b/62115660.\n",
              "    let position = 0;\n",
              "    do {\n",
              "      const length = Math.min(fileData.byteLength - position, MAX_PAYLOAD_SIZE);\n",
              "      const chunk = new Uint8Array(fileData, position, length);\n",
              "      position += length;\n",
              "\n",
              "      const base64 = btoa(String.fromCharCode.apply(null, chunk));\n",
              "      yield {\n",
              "        response: {\n",
              "          action: 'append',\n",
              "          file: file.name,\n",
              "          data: base64,\n",
              "        },\n",
              "      };\n",
              "\n",
              "      let percentDone = fileData.byteLength === 0 ?\n",
              "          100 :\n",
              "          Math.round((position / fileData.byteLength) * 100);\n",
              "      percent.textContent = `${percentDone}% done`;\n",
              "\n",
              "    } while (position < fileData.byteLength);\n",
              "  }\n",
              "\n",
              "  // All done.\n",
              "  yield {\n",
              "    response: {\n",
              "      action: 'complete',\n",
              "    }\n",
              "  };\n",
              "}\n",
              "\n",
              "scope.google = scope.google || {};\n",
              "scope.google.colab = scope.google.colab || {};\n",
              "scope.google.colab._files = {\n",
              "  _uploadFiles,\n",
              "  _uploadFilesContinue,\n",
              "};\n",
              "})(self);\n",
              "</script> "
            ]
          },
          "metadata": {}
        },
        {
          "output_type": "stream",
          "name": "stdout",
          "text": [
            "Saving kaggle.json to kaggle.json\n",
            "Downloading titanic.zip to /content\n",
            "  0% 0.00/34.1k [00:00<?, ?B/s]\n",
            "100% 34.1k/34.1k [00:00<00:00, 126MB/s]\n"
          ]
        }
      ],
      "source": [
        "#Exercise 1: Duplicate Detection and Removal\n",
        "## Load the titanic dataset\n",
        "\n",
        "### Setup: Install and configure Kaggle API\n",
        "!pip install -q kaggle\n",
        "### Installs the kaggle Python package so you can access datasets directly\n",
        "### from Kaggle competitions using code.\n",
        "\n",
        "from google.colab import files\n",
        "files.upload()  # Upload kaggle.json\n",
        "\n",
        "!mkdir -p ~/.kaggle\n",
        "!cp kaggle.json ~/.kaggle/\n",
        "!chmod 600 ~/.kaggle/kaggle.json\n",
        "#\n",
        "!kaggle competitions download -c titanic\n",
        "!unzip -q titanic.zip\n"
      ]
    },
    {
      "cell_type": "code",
      "source": [
        "import pandas as pd\n",
        "\n",
        "# Load the Titanic dataset\n",
        "titanic_data = pd.read_csv('train.csv')\n",
        "\n",
        "# Explore the dataset\n",
        "print(titanic_data.head())\n",
        "print(titanic_data.info())"
      ],
      "metadata": {
        "colab": {
          "base_uri": "https://localhost:8080/"
        },
        "id": "B_GSIYDDKfp9",
        "outputId": "796745f4-d55d-4f8a-bf78-945d8347a22e"
      },
      "execution_count": 2,
      "outputs": [
        {
          "output_type": "stream",
          "name": "stdout",
          "text": [
            "   PassengerId  Survived  Pclass  \\\n",
            "0            1         0       3   \n",
            "1            2         1       1   \n",
            "2            3         1       3   \n",
            "3            4         1       1   \n",
            "4            5         0       3   \n",
            "\n",
            "                                                Name     Sex   Age  SibSp  \\\n",
            "0                            Braund, Mr. Owen Harris    male  22.0      1   \n",
            "1  Cumings, Mrs. John Bradley (Florence Briggs Th...  female  38.0      1   \n",
            "2                             Heikkinen, Miss. Laina  female  26.0      0   \n",
            "3       Futrelle, Mrs. Jacques Heath (Lily May Peel)  female  35.0      1   \n",
            "4                           Allen, Mr. William Henry    male  35.0      0   \n",
            "\n",
            "   Parch            Ticket     Fare Cabin Embarked  \n",
            "0      0         A/5 21171   7.2500   NaN        S  \n",
            "1      0          PC 17599  71.2833   C85        C  \n",
            "2      0  STON/O2. 3101282   7.9250   NaN        S  \n",
            "3      0            113803  53.1000  C123        S  \n",
            "4      0            373450   8.0500   NaN        S  \n",
            "<class 'pandas.core.frame.DataFrame'>\n",
            "RangeIndex: 891 entries, 0 to 890\n",
            "Data columns (total 12 columns):\n",
            " #   Column       Non-Null Count  Dtype  \n",
            "---  ------       --------------  -----  \n",
            " 0   PassengerId  891 non-null    int64  \n",
            " 1   Survived     891 non-null    int64  \n",
            " 2   Pclass       891 non-null    int64  \n",
            " 3   Name         891 non-null    object \n",
            " 4   Sex          891 non-null    object \n",
            " 5   Age          714 non-null    float64\n",
            " 6   SibSp        891 non-null    int64  \n",
            " 7   Parch        891 non-null    int64  \n",
            " 8   Ticket       891 non-null    object \n",
            " 9   Fare         891 non-null    float64\n",
            " 10  Cabin        204 non-null    object \n",
            " 11  Embarked     889 non-null    object \n",
            "dtypes: float64(2), int64(5), object(5)\n",
            "memory usage: 83.7+ KB\n",
            "None\n"
          ]
        }
      ]
    },
    {
      "cell_type": "code",
      "source": [
        "print(\"Number of rows:\", titanic_data.shape[0])"
      ],
      "metadata": {
        "colab": {
          "base_uri": "https://localhost:8080/"
        },
        "id": "0W6rBAWWLTvk",
        "outputId": "b4da5163-df75-45fb-b74c-fde397302538"
      },
      "execution_count": 6,
      "outputs": [
        {
          "output_type": "stream",
          "name": "stdout",
          "text": [
            "Number of rows: 891\n"
          ]
        }
      ]
    },
    {
      "cell_type": "code",
      "source": [],
      "metadata": {
        "id": "nj801c55LB5X"
      },
      "execution_count": 5,
      "outputs": []
    },
    {
      "cell_type": "code",
      "source": [
        "### Identify if there are any duplicate rows based on all columns.\n",
        "# Check for duplicate rows\n",
        "duplicate_mask = titanic_data.duplicated()\n",
        "print(\"Number of duplicate rows:\", duplicate_mask.sum())"
      ],
      "metadata": {
        "colab": {
          "base_uri": "https://localhost:8080/"
        },
        "id": "G55_TJKpIvKM",
        "outputId": "561241c2-6770-4df1-fcc9-5b8af6a88009"
      },
      "execution_count": 7,
      "outputs": [
        {
          "output_type": "stream",
          "name": "stdout",
          "text": [
            "Number of duplicate rows: 0\n"
          ]
        }
      ]
    },
    {
      "cell_type": "code",
      "source": [
        "### Remove any duplicate rows found in the dataset.\n",
        "\n",
        "titanic_data = titanic_data.drop_duplicates()\n",
        "print(\"Remaining duplicates:\", titanic_data.duplicated().sum())"
      ],
      "metadata": {
        "colab": {
          "base_uri": "https://localhost:8080/"
        },
        "id": "9lhzgoB1JK7z",
        "outputId": "7106a2e9-5dae-45af-f12b-ce561e2a45c7"
      },
      "execution_count": 8,
      "outputs": [
        {
          "output_type": "stream",
          "name": "stdout",
          "text": [
            "Remaining duplicates: 0\n"
          ]
        }
      ]
    },
    {
      "cell_type": "code",
      "source": [
        "### Verify the removal of duplicates by checking the number of rows before and after the duplicate removal.\n",
        "rows_before = titanic_data.shape[0]\n",
        "\n",
        "titanic_data_no_duplicates = titanic_data.drop_duplicates()\n",
        "rows_after = titanic_data_no_duplicates.shape[0]\n",
        "\n",
        "print(\"Before:\", rows_before, \"After after:\", rows_after)"
      ],
      "metadata": {
        "colab": {
          "base_uri": "https://localhost:8080/"
        },
        "id": "Q3E8LGvXJLmP",
        "outputId": "2ebf47a3-965d-4e9d-9659-a33c665b771e"
      },
      "execution_count": 9,
      "outputs": [
        {
          "output_type": "stream",
          "name": "stdout",
          "text": [
            "Before: 891 After after: 891\n"
          ]
        }
      ]
    },
    {
      "cell_type": "markdown",
      "source": [
        "## Exercise 2: Handling Missing Values Instructions\n",
        "\n",
        "### Identify columns in the Titanic dataset with missing values.\n",
        "\n",
        "### Explore different strategies for handling missing data, such as removal, imputation, and filling with a constant value.\n",
        "\n",
        "### Apply each strategy to different columns based on the nature of the data."
      ],
      "metadata": {
        "id": "fjhe1B3dMmBK"
      }
    },
    {
      "cell_type": "code",
      "source": [
        "import pandas as pd\n",
        "\n",
        "# Check for columns with missing values\n",
        "missing_columns = titanic_data.columns[titanic_data.isnull().any()]\n",
        "print(\"Columns with missing values:\", list(missing_columns))\n",
        "\n",
        "# determine how much is missing\n",
        "missing_percent = titanic_data.isnull().mean() * 100\n",
        "print(missing_percent[missing_percent > 0])\n",
        "\n",
        "## age column: solution to insert mean age to avoid further skewing results\n",
        "mean_age = titanic_data['Age'].mean()\n",
        "\n",
        "## Fill with mean\n",
        "titanic_data['Age'] = titanic_data['Age'].fillna(titanic_data['Age'].mean())\n",
        "\n",
        "# just confirming\n",
        "mean_age = titanic_data[\"Age\"].mean()\n",
        "print(mean_age, titanic_data['Age'].isnull() .sum())\n",
        "\n",
        "## cabin column: what type of data and results\n",
        "print(titanic_data[\"Cabin\"].head(50))\n",
        "\n",
        "## since 77% of cabin is missing, and its too risky to delete, I will mark as \"Unknown\"\n",
        "titanic_data['Cabin'] = titanic_data['Cabin'].fillna(\"Unknown\").replace(\"\", \"Unknown\")\n",
        "print(titanic_data[\"Cabin\"].head(50))\n",
        "\n",
        "#Embarked column: .22% is empty.\n",
        "# Count missing values in each column\n",
        "missing_embarked = titanic_data.isnull().sum()\n",
        "print(missing_embarked)\n",
        "\n",
        "titanic_data = titanic_data.dropna(subset=['Embarked'])\n",
        "print(\"New shape after dropping rows:\", titanic_data.shape)\n"
      ],
      "metadata": {
        "colab": {
          "base_uri": "https://localhost:8080/"
        },
        "id": "EG-UCT_qMfBv",
        "outputId": "0443b5a6-4537-4e59-b0b4-d9879b1c48a2"
      },
      "execution_count": 39,
      "outputs": [
        {
          "output_type": "stream",
          "name": "stdout",
          "text": [
            "New shape after dropping rows: (889, 12)\n"
          ]
        }
      ]
    },
    {
      "cell_type": "markdown",
      "source": [
        "## Exercise 3 - feature engineering instructions\n",
        "\n",
        "### Create new features, such as Family Size from SibSp and Parch, and Title extracted from the Name column.\n",
        "\n",
        "### Convert categorical variables into numerical form using techniques like one-hot encoding or label encoding.\n",
        "\n",
        "### You will encode new categorical features (like Title) here, but do not scale numerical features yet — that will come after outlier handling."
      ],
      "metadata": {
        "id": "-2JEzJeMVRSo"
      }
    },
    {
      "cell_type": "code",
      "source": [
        "titanic_data[\"FamilySize\"] = titanic_data[\"SibSp\"] + titanic_data[\"Parch\"] + 1\n",
        "print(titanic_data[[\"SibSp\", \"Parch\", \"FamilySize\"]].head())\n",
        "\n",
        "titanic_data[\"Title\"] = titanic_data[\"Name\"].str.extract(r\" ([A-Za-z]+)\\.\", expand=False)\n",
        "\n",
        "print(titanic_data[[\"Name\", \"Title\"]].head(10))\n",
        "\n",
        "titanic_data = pd.get_dummies(titanic_data, columns=[\"Sex\", \"Embarked\", \"Title\"])\n",
        "\n",
        "print(titanic_data.head())"
      ],
      "metadata": {
        "colab": {
          "base_uri": "https://localhost:8080/"
        },
        "id": "b-DGTa5yWTzK",
        "outputId": "71f16b57-779d-46da-cab2-208e45afecb7"
      },
      "execution_count": 41,
      "outputs": [
        {
          "output_type": "stream",
          "name": "stdout",
          "text": [
            "   SibSp  Parch  FamilySize\n",
            "0      1      0           2\n",
            "1      1      0           2\n",
            "2      0      0           1\n",
            "3      1      0           2\n",
            "4      0      0           1\n",
            "                                                Name   Title\n",
            "0                            Braund, Mr. Owen Harris      Mr\n",
            "1  Cumings, Mrs. John Bradley (Florence Briggs Th...     Mrs\n",
            "2                             Heikkinen, Miss. Laina    Miss\n",
            "3       Futrelle, Mrs. Jacques Heath (Lily May Peel)     Mrs\n",
            "4                           Allen, Mr. William Henry      Mr\n",
            "5                                   Moran, Mr. James      Mr\n",
            "6                            McCarthy, Mr. Timothy J      Mr\n",
            "7                     Palsson, Master. Gosta Leonard  Master\n",
            "8  Johnson, Mrs. Oscar W (Elisabeth Vilhelmina Berg)     Mrs\n",
            "9                Nasser, Mrs. Nicholas (Adele Achem)     Mrs\n",
            "   PassengerId  Survived  Pclass  \\\n",
            "0            1         0       3   \n",
            "1            2         1       1   \n",
            "2            3         1       3   \n",
            "3            4         1       1   \n",
            "4            5         0       3   \n",
            "\n",
            "                                                Name   Age  SibSp  Parch  \\\n",
            "0                            Braund, Mr. Owen Harris  22.0      1      0   \n",
            "1  Cumings, Mrs. John Bradley (Florence Briggs Th...  38.0      1      0   \n",
            "2                             Heikkinen, Miss. Laina  26.0      0      0   \n",
            "3       Futrelle, Mrs. Jacques Heath (Lily May Peel)  35.0      1      0   \n",
            "4                           Allen, Mr. William Henry  35.0      0      0   \n",
            "\n",
            "             Ticket     Fare    Cabin  ...  Title_Major  Title_Master  \\\n",
            "0         A/5 21171   7.2500  Unknown  ...        False         False   \n",
            "1          PC 17599  71.2833      C85  ...        False         False   \n",
            "2  STON/O2. 3101282   7.9250  Unknown  ...        False         False   \n",
            "3            113803  53.1000     C123  ...        False         False   \n",
            "4            373450   8.0500  Unknown  ...        False         False   \n",
            "\n",
            "   Title_Miss  Title_Mlle  Title_Mme  Title_Mr  Title_Mrs  Title_Ms  \\\n",
            "0       False       False      False      True      False     False   \n",
            "1       False       False      False     False       True     False   \n",
            "2        True       False      False     False      False     False   \n",
            "3       False       False      False     False       True     False   \n",
            "4       False       False      False      True      False     False   \n",
            "\n",
            "   Title_Rev  Title_Sir  \n",
            "0      False      False  \n",
            "1      False      False  \n",
            "2      False      False  \n",
            "3      False      False  \n",
            "4      False      False  \n",
            "\n",
            "[5 rows x 33 columns]\n"
          ]
        }
      ]
    },
    {
      "cell_type": "markdown",
      "source": [
        "#Exercise 4 - Outlier detection and handling\n",
        "\n"
      ],
      "metadata": {
        "id": "uel1pkofXWnL"
      }
    },
    {
      "cell_type": "code",
      "source": [
        "import matplotlib.pyplot as plt\n",
        "import numpy as np\n",
        "\n",
        "titanic_data[['Age','Fare']].plot(kind='box', subplots=True, layout=(1,2), figsize=(12,6))\n",
        "plt.show()\n",
        "\n",
        "Q1 = titanic_data['Age'].quantile(0.25)\n",
        "Q3 = titanic_data['Age'].quantile(0.75)\n",
        "IQR = Q3 - Q1\n",
        "lower_age = Q1 - 1.5 * IQR\n",
        "upper_age = Q3 + 1.5 * IQR\n",
        "titanic_data = titanic_data[(titanic_data['Age'] >= lower_age) & (titanic_data['Age'] <= upper_age)]\n",
        "\n",
        "Q1 = titanic_data['Fare'].quantile(0.25)\n",
        "Q3 = titanic_data['Fare'].quantile(0.75)\n",
        "IQR = Q3 - Q1\n",
        "lower_fare = Q1 - 1.5 * IQR\n",
        "upper_fare = Q3 + 1.5 * IQR\n",
        "titanic_data = titanic_data[(titanic_data['Fare'] >= lower_fare) & (titanic_data['Fare'] <= upper_fare)]\n",
        "\n",
        "titanic_data[['Age','Fare']].hist(bins=30, figsize=(12,6))\n",
        "plt.show()"
      ],
      "metadata": {
        "colab": {
          "base_uri": "https://localhost:8080/",
          "height": 1000
        },
        "id": "SP07svWsXnTa",
        "outputId": "441a02e4-c711-46ea-d6a6-ec978a3c0664"
      },
      "execution_count": 42,
      "outputs": [
        {
          "output_type": "display_data",
          "data": {
            "text/plain": [
              "<Figure size 1200x600 with 2 Axes>"
            ],
            "image/png": "[encoded data removed]"
          },
          "metadata": {}
        },
        {
          "output_type": "display_data",
          "data": {
            "text/plain": [
              "<Figure size 1200x600 with 2 Axes>"
            ],
            "image/png": "[encoded data removed]"
          },
          "metadata": {}
        }
      ]
    },
    {
      "cell_type": "code",
      "source": [
        "## Exercise 5\n",
        "\n",
        "from sklearn.preprocessing import StandardScaler, MinMaxScaler\n",
        "\n",
        "scaler = StandardScaler()\n",
        "titanic_data[['Age_std','Fare_std','FamilySize_std']] = scaler.fit_transform(\n",
        "    titanic_data[['Age','Fare','FamilySize']]\n",
        ")\n",
        "\n",
        "minmax = MinMaxScaler()\n",
        "titanic_data[['Age_norm','Fare_norm','FamilySize_norm']] = minmax.fit_transform(\n",
        "    titanic_data[['Age','Fare','FamilySize']]\n",
        ")\n",
        "\n",
        "print(titanic_data[['Age','Age_std','Age_norm']].head())\n"
      ],
      "metadata": {
        "colab": {
          "base_uri": "https://localhost:8080/"
        },
        "id": "tGtb2a0yYREa",
        "outputId": "1d2a81da-2040-4fef-b218-4a6bab1f98e0"
      },
      "execution_count": 43,
      "outputs": [
        {
          "output_type": "stream",
          "name": "stdout",
          "text": [
            "         Age   Age_std  Age_norm\n",
            "0  22.000000 -0.644501  0.372549\n",
            "2  26.000000 -0.245599  0.450980\n",
            "3  35.000000  0.651930  0.627451\n",
            "4  35.000000  0.651930  0.627451\n",
            "5  29.699118  0.123297  0.523512\n"
          ]
        }
      ]
    },
    {
      "cell_type": "code",
      "source": [
        "##Exercise 6 - FEature Encoding\n",
        "\n",
        "import pandas as pd\n",
        "from sklearn.preprocessing import LabelEncoder\n",
        "\n",
        "titanic_data = titanic_data.drop(columns=['Name','Ticket'])\n",
        "\n",
        "# One-hot encode Cabin\n",
        "titanic_data = pd.get_dummies(titanic_data, columns=['Cabin'], drop_first=True)\n",
        "\n",
        "print(titanic_data.head())\n",
        "print(titanic_data.info())\n"
      ],
      "metadata": {
        "colab": {
          "base_uri": "https://localhost:8080/"
        },
        "id": "NMW7VqUdZPhi",
        "outputId": "25f4e6a6-bcca-4605-a432-75c9f09dc668"
      },
      "execution_count": 45,
      "outputs": [
        {
          "output_type": "stream",
          "name": "stdout",
          "text": [
            "   PassengerId  Survived  Pclass        Age  SibSp  Parch     Fare  \\\n",
            "0            1         0       3  22.000000      1      0   7.2500   \n",
            "2            3         1       3  26.000000      0      0   7.9250   \n",
            "3            4         1       1  35.000000      1      0  53.1000   \n",
            "4            5         0       3  35.000000      0      0   8.0500   \n",
            "5            6         0       3  29.699118      0      0   8.4583   \n",
            "\n",
            "   FamilySize  Sex_female  Sex_male  ...  Cabin_F E69  Cabin_F G63  \\\n",
            "0           2       False      True  ...        False        False   \n",
            "2           1        True     False  ...        False        False   \n",
            "3           2        True     False  ...        False        False   \n",
            "4           1       False      True  ...        False        False   \n",
            "5           1       False      True  ...        False        False   \n",
            "\n",
            "   Cabin_F G73  Cabin_F2  Cabin_F33  Cabin_F38  Cabin_F4  Cabin_G6  Cabin_T  \\\n",
            "0        False     False      False      False     False     False    False   \n",
            "2        False     False      False      False     False     False    False   \n",
            "3        False     False      False      False     False     False    False   \n",
            "4        False     False      False      False     False     False    False   \n",
            "5        False     False      False      False     False     False    False   \n",
            "\n",
            "   Cabin_Unknown  \n",
            "0           True  \n",
            "2           True  \n",
            "3          False  \n",
            "4           True  \n",
            "5           True  \n",
            "\n",
            "[5 rows x 109 columns]\n",
            "<class 'pandas.core.frame.DataFrame'>\n",
            "Index: 718 entries, 0 to 890\n",
            "Columns: 109 entries, PassengerId to Cabin_Unknown\n",
            "dtypes: bool(95), float64(8), int64(6)\n",
            "memory usage: 150.8 KB\n",
            "None\n"
          ]
        }
      ]
    },
    {
      "cell_type": "code",
      "source": [
        "## Exericse 7\n",
        "\n",
        "import pandas as pd\n",
        "\n",
        "# 1. Define age bins and labels\n",
        "bins = [0, 12, 18, 60, 100]\n",
        "labels = [\"Child\", \"Teen\", \"Adult\", \"Senior\"]\n",
        "\n",
        "# 2. Create AgeGroup column\n",
        "titanic_data[\"AgeGroup\"] = pd.cut(titanic_data[\"Age\"], bins=bins, labels=labels, include_lowest=True)\n",
        "\n",
        "print(titanic_data[[\"Age\", \"AgeGroup\"]].head(15))\n",
        "\n",
        "# 3. One-hot encode AgeGroup\n",
        "titanic_data = pd.get_dummies(titanic_data, columns=[\"AgeGroup\"], drop_first=True)\n",
        "\n",
        "print(titanic_data.head())"
      ],
      "metadata": {
        "colab": {
          "base_uri": "https://localhost:8080/"
        },
        "id": "_WKsODsSaGH1",
        "outputId": "888200f6-b481-4506-c116-35b82ff3980a"
      },
      "execution_count": 46,
      "outputs": [
        {
          "output_type": "stream",
          "name": "stdout",
          "text": [
            "          Age AgeGroup\n",
            "0   22.000000    Adult\n",
            "2   26.000000    Adult\n",
            "3   35.000000    Adult\n",
            "4   35.000000    Adult\n",
            "5   29.699118    Adult\n",
            "6   54.000000    Adult\n",
            "8   27.000000    Adult\n",
            "9   14.000000     Teen\n",
            "10   4.000000    Child\n",
            "12  20.000000    Adult\n",
            "13  39.000000    Adult\n",
            "14  14.000000     Teen\n",
            "17  29.699118    Adult\n",
            "18  31.000000    Adult\n",
            "19  29.699118    Adult\n",
            "   PassengerId  Survived  Pclass        Age  SibSp  Parch     Fare  \\\n",
            "0            1         0       3  22.000000      1      0   7.2500   \n",
            "2            3         1       3  26.000000      0      0   7.9250   \n",
            "3            4         1       1  35.000000      1      0  53.1000   \n",
            "4            5         0       3  35.000000      0      0   8.0500   \n",
            "5            6         0       3  29.699118      0      0   8.4583   \n",
            "\n",
            "   FamilySize  Sex_female  Sex_male  ...  Cabin_F2  Cabin_F33  Cabin_F38  \\\n",
            "0           2       False      True  ...     False      False      False   \n",
            "2           1        True     False  ...     False      False      False   \n",
            "3           2        True     False  ...     False      False      False   \n",
            "4           1       False      True  ...     False      False      False   \n",
            "5           1       False      True  ...     False      False      False   \n",
            "\n",
            "   Cabin_F4  Cabin_G6  Cabin_T  Cabin_Unknown  AgeGroup_Teen  AgeGroup_Adult  \\\n",
            "0     False     False    False           True          False            True   \n",
            "2     False     False    False           True          False            True   \n",
            "3     False     False    False          False          False            True   \n",
            "4     False     False    False           True          False            True   \n",
            "5     False     False    False           True          False            True   \n",
            "\n",
            "   AgeGroup_Senior  \n",
            "0            False  \n",
            "2            False  \n",
            "3            False  \n",
            "4            False  \n",
            "5            False  \n",
            "\n",
            "[5 rows x 112 columns]\n"
          ]
        }
      ]
    },
    {
      "cell_type": "markdown",
      "source": [
        "\n",
        "# Count missing values in each column\n",
        "missing_counts = df.isnull().sum()\n",
        "print(missing_counts)\n",
        "\n",
        "\n",
        "# 1. Identify missing values\n",
        "print(titanic_data.isnull().sum())\n"
      ],
      "metadata": {
        "id": "0ETN9A9cON1z"
      }
    }
  ]
}