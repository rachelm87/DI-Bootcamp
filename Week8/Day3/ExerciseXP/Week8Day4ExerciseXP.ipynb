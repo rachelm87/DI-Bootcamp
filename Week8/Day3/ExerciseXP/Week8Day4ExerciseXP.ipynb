{
  "nbformat": 4,
  "nbformat_minor": 0,
  "metadata": {
    "colab": {
      "provenance": []
    },
    "kernelspec": {
      "name": "python3",
      "display_name": "Python 3"
    },
    "language_info": {
      "name": "python"
    }
  },
  "cells": [
    {
      "cell_type": "markdown",
      "source": [
        "#Mini Project: Using the Mental Health dataset and what you have learn this week, answer the following questions :\n",
        "\n",
        "## What is the distribution of mental health conditions among different age groups in the tech industry?\n",
        "\n",
        "\n",
        "## How does the frequency of mental health issues vary by gender?\n",
        "\n",
        "## Identify the countries with the highest and lowest reported rates of mental health issues in the tech industry.\n"
      ],
      "metadata": {
        "id": "eK0YZE2eEYyy"
      }
    },
    {
      "cell_type": "code",
      "execution_count": null,
      "metadata": {
        "colab": {
          "base_uri": "https://localhost:8080/",
          "height": 1000
        },
        "id": "gOHsHJV_ELKS",
        "outputId": "d8620dbd-62b6-403c-889c-0405175f4e64"
      },
      "outputs": [
        {
          "output_type": "display_data",
          "data": {
            "text/plain": [
              "<IPython.core.display.HTML object>"
            ],
            "text/html": [
              "\n",
              "     <input type=\"file\" id=\"files-0f8028a0-623b-4a46-a131-c92140e42f73\" name=\"files[]\" multiple disabled\n",
              "        style=\"border:none\" />\n",
              "     <output id=\"result-0f8028a0-623b-4a46-a131-c92140e42f73\">\n",
              "      Upload widget is only available when the cell has been executed in the\n",
              "      current browser session. Please rerun this cell to enable.\n",
              "      </output>\n",
              "      <script>// Copyright 2017 Google LLC\n",
              "//\n",
              "// Licensed under the Apache License, Version 2.0 (the \"License\");\n",
              "// you may not use this file except in compliance with the License.\n",
              "// You may obtain a copy of the License at\n",
              "//\n",
              "//      http://www.apache.org/licenses/LICENSE-2.0\n",
              "//\n",
              "// Unless required by applicable law or agreed to in writing, software\n",
              "// distributed under the License is distributed on an \"AS IS\" BASIS,\n",
              "// WITHOUT WARRANTIES OR CONDITIONS OF ANY KIND, either express or implied.\n",
              "// See the License for the specific language governing permissions and\n",
              "// limitations under the License.\n",
              "\n",
              "/**\n",
              " * @fileoverview Helpers for google.colab Python module.\n",
              " */\n",
              "(function(scope) {\n",
              "function span(text, styleAttributes = {}) {\n",
              "  const element = document.createElement('span');\n",
              "  element.textContent = text;\n",
              "  for (const key of Object.keys(styleAttributes)) {\n",
              "    element.style[key] = styleAttributes[key];\n",
              "  }\n",
              "  return element;\n",
              "}\n",
              "\n",
              "// Max number of bytes which will be uploaded at a time.\n",
              "const MAX_PAYLOAD_SIZE = 100 * 1024;\n",
              "\n",
              "function _uploadFiles(inputId, outputId) {\n",
              "  const steps = uploadFilesStep(inputId, outputId);\n",
              "  const outputElement = document.getElementById(outputId);\n",
              "  // Cache steps on the outputElement to make it available for the next call\n",
              "  // to uploadFilesContinue from Python.\n",
              "  outputElement.steps = steps;\n",
              "\n",
              "  return _uploadFilesContinue(outputId);\n",
              "}\n",
              "\n",
              "// This is roughly an async generator (not supported in the browser yet),\n",
              "// where there are multiple asynchronous steps and the Python side is going\n",
              "// to poll for completion of each step.\n",
              "// This uses a Promise to block the python side on completion of each step,\n",
              "// then passes the result of the previous step as the input to the next step.\n",
              "function _uploadFilesContinue(outputId) {\n",
              "  const outputElement = document.getElementById(outputId);\n",
              "  const steps = outputElement.steps;\n",
              "\n",
              "  const next = steps.next(outputElement.lastPromiseValue);\n",
              "  return Promise.resolve(next.value.promise).then((value) => {\n",
              "    // Cache the last promise value to make it available to the next\n",
              "    // step of the generator.\n",
              "    outputElement.lastPromiseValue = value;\n",
              "    return next.value.response;\n",
              "  });\n",
              "}\n",
              "\n",
              "/**\n",
              " * Generator function which is called between each async step of the upload\n",
              " * process.\n",
              " * @param {string} inputId Element ID of the input file picker element.\n",
              " * @param {string} outputId Element ID of the output display.\n",
              " * @return {!Iterable<!Object>} Iterable of next steps.\n",
              " */\n",
              "function* uploadFilesStep(inputId, outputId) {\n",
              "  const inputElement = document.getElementById(inputId);\n",
              "  inputElement.disabled = false;\n",
              "\n",
              "  const outputElement = document.getElementById(outputId);\n",
              "  outputElement.innerHTML = '';\n",
              "\n",
              "  const pickedPromise = new Promise((resolve) => {\n",
              "    inputElement.addEventListener('change', (e) => {\n",
              "      resolve(e.target.files);\n",
              "    });\n",
              "  });\n",
              "\n",
              "  const cancel = document.createElement('button');\n",
              "  inputElement.parentElement.appendChild(cancel);\n",
              "  cancel.textContent = 'Cancel upload';\n",
              "  const cancelPromise = new Promise((resolve) => {\n",
              "    cancel.onclick = () => {\n",
              "      resolve(null);\n",
              "    };\n",
              "  });\n",
              "\n",
              "  // Wait for the user to pick the files.\n",
              "  const files = yield {\n",
              "    promise: Promise.race([pickedPromise, cancelPromise]),\n",
              "    response: {\n",
              "      action: 'starting',\n",
              "    }\n",
              "  };\n",
              "\n",
              "  cancel.remove();\n",
              "\n",
              "  // Disable the input element since further picks are not allowed.\n",
              "  inputElement.disabled = true;\n",
              "\n",
              "  if (!files) {\n",
              "    return {\n",
              "      response: {\n",
              "        action: 'complete',\n",
              "      }\n",
              "    };\n",
              "  }\n",
              "\n",
              "  for (const file of files) {\n",
              "    const li = document.createElement('li');\n",
              "    li.append(span(file.name, {fontWeight: 'bold'}));\n",
              "    li.append(span(\n",
              "        `(${file.type || 'n/a'}) - ${file.size} bytes, ` +\n",
              "        `last modified: ${\n",
              "            file.lastModifiedDate ? file.lastModifiedDate.toLocaleDateString() :\n",
              "                                    'n/a'} - `));\n",
              "    const percent = span('0% done');\n",
              "    li.appendChild(percent);\n",
              "\n",
              "    outputElement.appendChild(li);\n",
              "\n",
              "    const fileDataPromise = new Promise((resolve) => {\n",
              "      const reader = new FileReader();\n",
              "      reader.onload = (e) => {\n",
              "        resolve(e.target.result);\n",
              "      };\n",
              "      reader.readAsArrayBuffer(file);\n",
              "    });\n",
              "    // Wait for the data to be ready.\n",
              "    let fileData = yield {\n",
              "      promise: fileDataPromise,\n",
              "      response: {\n",
              "        action: 'continue',\n",
              "      }\n",
              "    };\n",
              "\n",
              "    // Use a chunked sending to avoid message size limits. See b/62115660.\n",
              "    let position = 0;\n",
              "    do {\n",
              "      const length = Math.min(fileData.byteLength - position, MAX_PAYLOAD_SIZE);\n",
              "      const chunk = new Uint8Array(fileData, position, length);\n",
              "      position += length;\n",
              "\n",
              "      const base64 = btoa(String.fromCharCode.apply(null, chunk));\n",
              "      yield {\n",
              "        response: {\n",
              "          action: 'append',\n",
              "          file: file.name,\n",
              "          data: base64,\n",
              "        },\n",
              "      };\n",
              "\n",
              "      let percentDone = fileData.byteLength === 0 ?\n",
              "          100 :\n",
              "          Math.round((position / fileData.byteLength) * 100);\n",
              "      percent.textContent = `${percentDone}% done`;\n",
              "\n",
              "    } while (position < fileData.byteLength);\n",
              "  }\n",
              "\n",
              "  // All done.\n",
              "  yield {\n",
              "    response: {\n",
              "      action: 'complete',\n",
              "    }\n",
              "  };\n",
              "}\n",
              "\n",
              "scope.google = scope.google || {};\n",
              "scope.google.colab = scope.google.colab || {};\n",
              "scope.google.colab._files = {\n",
              "  _uploadFiles,\n",
              "  _uploadFilesContinue,\n",
              "};\n",
              "})(self);\n",
              "</script> "
            ]
          },
          "metadata": {}
        },
        {
          "output_type": "stream",
          "name": "stdout",
          "text": [
            "Saving survey.csv to survey.csv\n",
            "(1259, 27)\n",
            "Timestamp                    object\n",
            "Age                           int64\n",
            "Gender                       object\n",
            "Country                      object\n",
            "state                        object\n",
            "self_employed                object\n",
            "family_history               object\n",
            "treatment                    object\n",
            "work_interfere               object\n",
            "no_employees                 object\n",
            "remote_work                  object\n",
            "tech_company                 object\n",
            "benefits                     object\n",
            "care_options                 object\n",
            "wellness_program             object\n",
            "seek_help                    object\n",
            "anonymity                    object\n",
            "leave                        object\n",
            "mental_health_consequence    object\n",
            "phys_health_consequence      object\n",
            "coworkers                    object\n",
            "supervisor                   object\n",
            "mental_health_interview      object\n",
            "phys_health_interview        object\n",
            "mental_vs_physical           object\n",
            "obs_consequence              object\n",
            "comments                     object\n",
            "dtype: object\n",
            "              Timestamp  Age  Gender         Country state self_employed  \\\n",
            "0   2014-08-27 11:29:31   37  Female   United States    IL           NaN   \n",
            "1   2014-08-27 11:29:37   44       M   United States    IN           NaN   \n",
            "2   2014-08-27 11:29:44   32    Male          Canada   NaN           NaN   \n",
            "3   2014-08-27 11:29:46   31    Male  United Kingdom   NaN           NaN   \n",
            "4   2014-08-27 11:30:22   31    Male   United States    TX           NaN   \n",
            "..                  ...  ...     ...             ...   ...           ...   \n",
            "85  2014-08-27 12:05:37   31    Male   United States    TX            No   \n",
            "86  2014-08-27 12:07:08   39    Male  United Kingdom   NaN           Yes   \n",
            "87  2014-08-27 12:10:43   34  female   United States    OR            No   \n",
            "88  2014-08-27 12:11:00   29       F   United States    FL            No   \n",
            "89  2014-08-27 12:11:07   32       M   United States    IL            No   \n",
            "\n",
            "   family_history treatment work_interfere    no_employees  ...  \\\n",
            "0              No       Yes          Often            6-25  ...   \n",
            "1              No        No         Rarely  More than 1000  ...   \n",
            "2              No        No         Rarely            6-25  ...   \n",
            "3             Yes       Yes          Often          26-100  ...   \n",
            "4              No        No          Never         100-500  ...   \n",
            "..            ...       ...            ...             ...  ...   \n",
            "85             No        No            NaN          26-100  ...   \n",
            "86             No       Yes          Often            6-25  ...   \n",
            "87            Yes       Yes         Rarely        500-1000  ...   \n",
            "88             No       Yes      Sometimes          26-100  ...   \n",
            "89             No        No            NaN        500-1000  ...   \n",
            "\n",
            "                 leave mental_health_consequence phys_health_consequence  \\\n",
            "0        Somewhat easy                        No                      No   \n",
            "1           Don't know                     Maybe                      No   \n",
            "2   Somewhat difficult                        No                      No   \n",
            "3   Somewhat difficult                       Yes                     Yes   \n",
            "4           Don't know                        No                      No   \n",
            "..                 ...                       ...                     ...   \n",
            "85          Don't know                        No                      No   \n",
            "86      Very difficult                     Maybe                      No   \n",
            "87          Don't know                       Yes                   Maybe   \n",
            "88          Don't know                     Maybe                      No   \n",
            "89          Don't know                        No                      No   \n",
            "\n",
            "       coworkers    supervisor mental_health_interview phys_health_interview  \\\n",
            "0   Some of them           Yes                      No                 Maybe   \n",
            "1             No            No                      No                    No   \n",
            "2            Yes           Yes                     Yes                   Yes   \n",
            "3   Some of them            No                   Maybe                 Maybe   \n",
            "4   Some of them           Yes                     Yes                   Yes   \n",
            "..           ...           ...                     ...                   ...   \n",
            "85  Some of them           Yes                   Maybe                 Maybe   \n",
            "86  Some of them            No                      No                 Maybe   \n",
            "87  Some of them  Some of them                      No                    No   \n",
            "88  Some of them  Some of them                      No                 Maybe   \n",
            "89  Some of them  Some of them                      No                    No   \n",
            "\n",
            "   mental_vs_physical obs_consequence comments  \n",
            "0                 Yes              No      NaN  \n",
            "1          Don't know              No      NaN  \n",
            "2                  No              No      NaN  \n",
            "3                  No             Yes      NaN  \n",
            "4          Don't know              No      NaN  \n",
            "..                ...             ...      ...  \n",
            "85                 No              No      NaN  \n",
            "86                 No             Yes      NaN  \n",
            "87         Don't know              No      NaN  \n",
            "88                 No             Yes      NaN  \n",
            "89         Don't know              No      NaN  \n",
            "\n",
            "[90 rows x 27 columns]\n",
            "<class 'pandas.core.frame.DataFrame'>\n",
            "RangeIndex: 1259 entries, 0 to 1258\n",
            "Data columns (total 27 columns):\n",
            " #   Column                     Non-Null Count  Dtype \n",
            "---  ------                     --------------  ----- \n",
            " 0   Timestamp                  1259 non-null   object\n",
            " 1   Age                        1259 non-null   int64 \n",
            " 2   Gender                     1259 non-null   object\n",
            " 3   Country                    1259 non-null   object\n",
            " 4   state                      744 non-null    object\n",
            " 5   self_employed              1241 non-null   object\n",
            " 6   family_history             1259 non-null   object\n",
            " 7   treatment                  1259 non-null   object\n",
            " 8   work_interfere             995 non-null    object\n",
            " 9   no_employees               1259 non-null   object\n",
            " 10  remote_work                1259 non-null   object\n",
            " 11  tech_company               1259 non-null   object\n",
            " 12  benefits                   1259 non-null   object\n",
            " 13  care_options               1259 non-null   object\n",
            " 14  wellness_program           1259 non-null   object\n",
            " 15  seek_help                  1259 non-null   object\n",
            " 16  anonymity                  1259 non-null   object\n",
            " 17  leave                      1259 non-null   object\n",
            " 18  mental_health_consequence  1259 non-null   object\n",
            " 19  phys_health_consequence    1259 non-null   object\n",
            " 20  coworkers                  1259 non-null   object\n",
            " 21  supervisor                 1259 non-null   object\n",
            " 22  mental_health_interview    1259 non-null   object\n",
            " 23  phys_health_interview      1259 non-null   object\n",
            " 24  mental_vs_physical         1259 non-null   object\n",
            " 25  obs_consequence            1259 non-null   object\n",
            " 26  comments                   164 non-null    object\n",
            "dtypes: int64(1), object(26)\n",
            "memory usage: 265.7+ KB\n",
            "None\n"
          ]
        }
      ],
      "source": [
        "### Setup - Mental Health Dataset\n",
        "## Using the dataset: survey.csv learn all about it\n",
        "import pandas as pd\n",
        "import seaborn as sns\n",
        "import numpy as np ##all the important modules\n",
        "\n",
        "from google.colab import files #ensure Colab can access this file\n",
        "uploaded = files.upload()\n",
        "\n",
        "df = pd.read_csv(\"survey.csv\") #learn everything about this file!\n",
        "print(df.shape)\n",
        "print(df.dtypes)\n",
        "print(df.head(90))\n",
        "print(df.info())"
      ]
    },
    {
      "cell_type": "markdown",
      "source": [
        "### SUMMARY OF DATASET:\n",
        "\n",
        "There are 1259 rows with 27 columns. Of the 27 columns, only age is classified as an integer. The others are text, and will need to be re-classfied as 'datetime' (date) or category (all others).\n",
        "\n",
        "For our purposes, we will need the following columns: age, treatment (if they have an issue or not), tech_company, gender, country. We should keep state and timestamp as well, just in case.\n"
      ],
      "metadata": {
        "id": "MUBKeh8vF_Vg"
      }
    },
    {
      "cell_type": "code",
      "source": [
        "###Data Quality - Check for missing values, then see what types of results we're working with for the columsn we care about\n",
        "print(df.isnull().sum().sort_values(ascending=False))\n",
        "\n",
        "print(df['treatment'].unique())\n",
        "print(df['Gender'].unique())\n",
        "print(df['Country'].unique())\n",
        "print(df['state'].unique())\n",
        "print(df['tech_company'].unique())\n"
      ],
      "metadata": {
        "colab": {
          "base_uri": "https://localhost:8080/"
        },
        "id": "Xf2A1Yv7eYnG",
        "outputId": "3c8ff8ce-3400-47d2-9d91-f61395b3f8cc"
      },
      "execution_count": null,
      "outputs": [
        {
          "output_type": "stream",
          "name": "stdout",
          "text": [
            "comments                     1095\n",
            "state                         515\n",
            "work_interfere                264\n",
            "self_employed                  18\n",
            "Gender                          0\n",
            "Timestamp                       0\n",
            "Age                             0\n",
            "family_history                  0\n",
            "treatment                       0\n",
            "no_employees                    0\n",
            "Country                         0\n",
            "remote_work                     0\n",
            "tech_company                    0\n",
            "care_options                    0\n",
            "benefits                        0\n",
            "seek_help                       0\n",
            "anonymity                       0\n",
            "leave                           0\n",
            "wellness_program                0\n",
            "mental_health_consequence       0\n",
            "phys_health_consequence         0\n",
            "supervisor                      0\n",
            "coworkers                       0\n",
            "mental_health_interview         0\n",
            "phys_health_interview           0\n",
            "mental_vs_physical              0\n",
            "obs_consequence                 0\n",
            "dtype: int64\n",
            "['Yes' 'No']\n",
            "['Female' 'M' 'Male' 'male' 'female' 'm' 'Male-ish' 'maile' 'Trans-female'\n",
            " 'Cis Female' 'F' 'something kinda male?' 'Cis Male' 'Woman' 'f' 'Mal'\n",
            " 'Male (CIS)' 'queer/she/they' 'non-binary' 'Femake' 'woman' 'Make' 'Nah'\n",
            " 'All' 'Enby' 'fluid' 'Genderqueer' 'Female ' 'Androgyne' 'Agender'\n",
            " 'cis-female/femme' 'Guy (-ish) ^_^' 'male leaning androgynous' 'Male '\n",
            " 'Man' 'Trans woman' 'msle' 'Neuter' 'Female (trans)' 'queer'\n",
            " 'Female (cis)' 'Mail' 'cis male' 'A little about you' 'Malr' 'p' 'femail'\n",
            " 'Cis Man' 'ostensibly male, unsure what that really means']\n",
            "['United States' 'Canada' 'United Kingdom' 'Bulgaria' 'France' 'Portugal'\n",
            " 'Netherlands' 'Switzerland' 'Poland' 'Australia' 'Germany' 'Russia'\n",
            " 'Mexico' 'Brazil' 'Slovenia' 'Costa Rica' 'Austria' 'Ireland' 'India'\n",
            " 'South Africa' 'Italy' 'Sweden' 'Colombia' 'Latvia' 'Romania' 'Belgium'\n",
            " 'New Zealand' 'Zimbabwe' 'Spain' 'Finland' 'Uruguay' 'Israel'\n",
            " 'Bosnia and Herzegovina' 'Hungary' 'Singapore' 'Japan' 'Nigeria'\n",
            " 'Croatia' 'Norway' 'Thailand' 'Denmark' 'Bahamas, The' 'Greece' 'Moldova'\n",
            " 'Georgia' 'China' 'Czech Republic' 'Philippines']\n",
            "['IL' 'IN' nan 'TX' 'TN' 'MI' 'OH' 'CA' 'CT' 'MD' 'NY' 'NC' 'MA' 'IA' 'PA'\n",
            " 'WA' 'WI' 'UT' 'NM' 'OR' 'FL' 'MN' 'MO' 'AZ' 'CO' 'GA' 'DC' 'NE' 'WV'\n",
            " 'OK' 'KS' 'VA' 'NH' 'KY' 'AL' 'NV' 'NJ' 'SC' 'VT' 'SD' 'ID' 'MS' 'RI'\n",
            " 'WY' 'LA' 'ME']\n",
            "['Yes' 'No']\n"
          ]
        }
      ]
    },
    {
      "cell_type": "code",
      "source": [
        "#Check the age\n",
        "print(df['Age'].describe())\n",
        "print(\"Min:\", df['Age'].min(), \"Max:\", df['Age'].max())\n",
        "print(df['Age'].unique())"
      ],
      "metadata": {
        "colab": {
          "base_uri": "https://localhost:8080/"
        },
        "id": "QL7Ib1_qizjh",
        "outputId": "770b4f8a-23ad-4a39-d835-ee7933da0d35"
      },
      "execution_count": null,
      "outputs": [
        {
          "output_type": "stream",
          "name": "stdout",
          "text": [
            "count    1.259000e+03\n",
            "mean     7.942815e+07\n",
            "std      2.818299e+09\n",
            "min     -1.726000e+03\n",
            "25%      2.700000e+01\n",
            "50%      3.100000e+01\n",
            "75%      3.600000e+01\n",
            "max      1.000000e+11\n",
            "Name: Age, dtype: float64\n",
            "Min: -1726 Max: 99999999999\n",
            "[         37          44          32          31          33          35\n",
            "          39          42          23          29          36          27\n",
            "          46          41          34          30          40          38\n",
            "          50          24          18          28          26          22\n",
            "          19          25          45          21         -29          43\n",
            "          56          60          54         329          55 99999999999\n",
            "          48          20          57          58          47          62\n",
            "          51          65          49       -1726           5          53\n",
            "          61           8          11          -1          72]\n"
          ]
        }
      ]
    },
    {
      "cell_type": "code",
      "source": [
        "duplicate_mask = df.duplicated()\n",
        "print(df[duplicate_mask]) # no duplicates"
      ],
      "metadata": {
        "colab": {
          "base_uri": "https://localhost:8080/"
        },
        "id": "lihK0Dq1kZqN",
        "outputId": "892680e4-ec79-42c1-e975-b80351f0be18"
      },
      "execution_count": null,
      "outputs": [
        {
          "output_type": "stream",
          "name": "stdout",
          "text": [
            "Empty DataFrame\n",
            "Columns: [Timestamp, Age, Gender, Country, state, self_employed, family_history, treatment, work_interfere, no_employees, remote_work, tech_company, benefits, care_options, wellness_program, seek_help, anonymity, leave, mental_health_consequence, phys_health_consequence, coworkers, supervisor, mental_health_interview, phys_health_interview, mental_vs_physical, obs_consequence, comments]\n",
            "Index: []\n",
            "\n",
            "[0 rows x 27 columns]\n"
          ]
        }
      ]
    },
    {
      "cell_type": "markdown",
      "source": [
        "### DATA QUALITY:\n",
        "There are some significant data quality issues for the following:\n",
        "\n",
        "- Age: Data includes negative and unrealistic ages (beyond 100). These are likely outliers. As the queries focus on the role of mental health for employees, we will eliminate ages younger than 15 and over 75.\n",
        "\n",
        "- Gender: There are typos and lack of standardized responses. So that we can derive meaningful results, we will bucket these into 'male' 'female' and 'other'.\n",
        "\n",
        "- State: There are 515 missing values likely due applications outside of U.S.\n",
        "\n",
        "- tech_company, treatment, and country should be changed to category.\n",
        "\n",
        "- timestamp: change to datetime."
      ],
      "metadata": {
        "id": "5gqDmgOcio8F"
      }
    },
    {
      "cell_type": "code",
      "source": [
        "#Data Cleaning:\n",
        "\n",
        "#gender\n",
        "\n",
        "df['Gender'] = df['Gender'].str.strip().str.lower() #avoid space issues\n",
        "\n",
        "male_terms = ['m', 'male', 'msle', 'man', 'cis male', 'cis man', 'maile', 'mal', 'male (cis)', 'make', 'mail', 'malr', 'cis man', 'ostensibly male, unsure what that really means']\n",
        "female_terms = ['female', 'f', 'woman', 'cis female', 'female (cis)', 'cis woman', 'femail', 'femake', 'cis-female/femme']\n",
        "\n",
        "df['Gender'] = df['Gender'].replace(male_terms, 'Male')\n",
        "df['Gender'] = df['Gender'].replace(female_terms, 'Female')\n",
        "\n",
        "df['Gender'] = df['Gender'].where(df['Gender'].isin(['Male', 'Female']), 'Other') #move everything else to other cateogry\n",
        "\n",
        "df['Gender'] = df['Gender'].astype('category') #change to category now\n",
        "print(df['Gender'].value_counts())\n",
        "\n",
        "#state\n",
        "\n",
        "df['state'] = df['state'].str.strip() #avoid space issues\n",
        "df['state'] = np.where(\n",
        "    (df['Country'] == 'United States') & (df['state'].isna()), 'Unknown',   # US but missing so we fill in as \"Unknown\"\n",
        "    np.where(df['Country'] != 'United States', 'Not in the U.S.', df['state']))      # Non-US\n",
        "\n",
        "df['state'] = df['state'].astype('category') #change to category now\n",
        "\n",
        "#country\n",
        "df['Country'] = df['Country'].str.strip() #avoid space issues\n",
        "\n",
        "#convert remaining data types - timestamp, treatment, and tech_company\n",
        "\n",
        "df['Timestamp'] = pd.to_datetime(df['Timestamp']) #change to datetime\n",
        "\n",
        "df['treatment'] = df['treatment'].astype('category')\n",
        "df['tech_company'] = df['tech_company'].astype('category')\n",
        "\n",
        "df = df[(df['Age'] >= 15) & (df['Age'] <= 75)] #filter to realistic age"
      ],
      "metadata": {
        "colab": {
          "base_uri": "https://localhost:8080/"
        },
        "id": "JqpTRAuMkFH3",
        "outputId": "21401b09-8ef1-4118-a075-b7dfa021dd77"
      },
      "execution_count": null,
      "outputs": [
        {
          "output_type": "stream",
          "name": "stdout",
          "text": [
            "Gender\n",
            "Male      986\n",
            "Female    247\n",
            "Other      18\n",
            "Name: count, dtype: int64\n"
          ]
        }
      ]
    },
    {
      "cell_type": "code",
      "source": [
        "#keep only relevant columns\n",
        "\n",
        "filter_df = ['Age', 'Gender', 'Country','state', 'treatment','tech_company']\n",
        "\n",
        "df = df[filter_df]\n",
        "\n",
        "print(df.head())\n"
      ],
      "metadata": {
        "id": "7cMtN3qzVOom",
        "colab": {
          "base_uri": "https://localhost:8080/"
        },
        "outputId": "79ee73ff-4179-480c-f03f-f03c0918b719"
      },
      "execution_count": null,
      "outputs": [
        {
          "output_type": "stream",
          "name": "stdout",
          "text": [
            "   Age  Gender         Country            state treatment tech_company\n",
            "0   37  Female   United States               IL       Yes          Yes\n",
            "1   44    Male   United States               IN        No           No\n",
            "2   32    Male          Canada  Not in the U.S.        No          Yes\n",
            "3   31    Male  United Kingdom  Not in the U.S.       Yes          Yes\n",
            "4   31    Male   United States               TX        No          Yes\n"
          ]
        }
      ]
    },
    {
      "cell_type": "code",
      "source": [
        "#Question 1: What is the distribution of mental health conditions among different age groups in the tech industry?\n",
        "#Answer: Almost 60% of all respondents reporting a mental health condition in the tech industry were between thes ages\n",
        "#of 25 and 34, with another 25% in the next bracket (35-44). We can assume that the reason only 11% were under 24 is that most people only begin working after teh age of 22.\n",
        "\n",
        "15–24    11.4\n",
        "25–34    57.1\n",
        "35–44    24.9\n",
        "45–54     4.7\n",
        "55–64     2.0\n",
        "65+       0.0\n",
        "#filter by \"Yes\" tech_company and \"Yes\" treatment.\n",
        "\n",
        "conditions = df[(df['treatment'] == 'Yes') & (df['tech_company'] == 'Yes')] #OR is | and #AND is&\n",
        "\n",
        "print(conditions) #510 people meet this criteria\n"
      ],
      "metadata": {
        "colab": {
          "base_uri": "https://localhost:8080/"
        },
        "id": "LnzIOCjuaCt0",
        "outputId": "57c1fb00-943b-4800-d13d-9cb19b8b8dff"
      },
      "execution_count": null,
      "outputs": [
        {
          "output_type": "stream",
          "name": "stdout",
          "text": [
            "      Age  Gender         Country            state treatment tech_company\n",
            "0      37  Female   United States               IL       Yes          Yes\n",
            "3      31    Male  United Kingdom  Not in the U.S.       Yes          Yes\n",
            "6      35  Female   United States               MI       Yes          Yes\n",
            "8      42  Female   United States               IL       Yes          Yes\n",
            "10     31    Male   United States               OH       Yes          Yes\n",
            "...   ...     ...             ...              ...       ...          ...\n",
            "1250   30    Male   United States               CA       Yes          Yes\n",
            "1252   29    Male   United States               NC       Yes          Yes\n",
            "1254   26    Male  United Kingdom  Not in the U.S.       Yes          Yes\n",
            "1255   32    Male   United States               IL       Yes          Yes\n",
            "1256   34    Male   United States               CA       Yes          Yes\n",
            "\n",
            "[510 rows x 6 columns]\n"
          ]
        }
      ]
    },
    {
      "cell_type": "code",
      "source": [
        "#let's make sure age groups are relatively even and not skewed further\n",
        "\n",
        "bins   = [15, 24, 34, 44, 54, 64, 75]\n",
        "labels = ['15–24','25–34','35–44','45–54','55–64','65+']\n",
        "conditions.loc[:, 'AgeGroup'] = pd.cut(conditions['Age'], bins=bins, labels=labels, right=True).astype('category')\n",
        "\n",
        "# Count per age group\n",
        "age_counts = conditions['AgeGroup'].value_counts().sort_index()\n",
        "\n",
        "# Bar chart\n",
        "plt.bar(age_counts.index.astype(str), age_counts.values)\n",
        "plt.title('Mental Health Conditions in Tech by Age Group')\n",
        "plt.xlabel('Age Group')\n",
        "plt.ylabel('Number of Individuals')\n",
        "plt.xticks(rotation=0)\n",
        "plt.show()\n",
        "\n",
        "\n",
        "age_pct = (age_counts / age_counts.sum()) * 100\n",
        "print(age_pct.round(1))"
      ],
      "metadata": {
        "id": "phSdYaGkrL6Y",
        "colab": {
          "base_uri": "https://localhost:8080/",
          "height": 619
        },
        "outputId": "d3834194-5d3d-435b-c744-d3ea920fad01"
      },
      "execution_count": 52,
      "outputs": [
        {
          "output_type": "display_data",
          "data": {
            "text/plain": [
              "<Figure size 640x480 with 1 Axes>"
            ],
            "image/png": "[encoded data removed]"
          },
          "metadata": {}
        },
        {
          "output_type": "stream",
          "name": "stdout",
          "text": [
            "AgeGroup\n",
            "15–24    11.4\n",
            "25–34    57.1\n",
            "35–44    24.9\n",
            "45–54     4.7\n",
            "55–64     2.0\n",
            "65+       0.0\n",
            "Name: count, dtype: float64\n"
          ]
        }
      ]
    },
    {
      "cell_type": "code",
      "source": [
        "#Question 2: How does the frequency of mental health issues vary by gender?\n",
        "#80% of those who identify as 'other' and '70% of those who identify as female have sought mental health treatment.\n",
        "gender_dist = pd.crosstab(df['Gender'], df['treatment'])\n",
        "print(gender_dist)\n",
        "gender_pct_yes = (gender_dist['Yes'] / gender_dist.sum(axis=1)) * 100\n",
        "print(gender_pct_yes.round(1))\n",
        "\n",
        "gender_pct_yes.plot(kind='bar', figsize=(7,5), color=['green','blue','red'])\n",
        "plt.title(\"Percentage of Respondents in Treatment by Gender\")\n",
        "plt.ylabel(\"Percentage (%)\")\n",
        "plt.xlabel(\"Gender\")\n",
        "plt.xticks(rotation=0)\n",
        "plt.show()\n",
        "\n"
      ],
      "metadata": {
        "id": "xc2JamdaqNzH",
        "colab": {
          "base_uri": "https://localhost:8080/",
          "height": 671
        },
        "outputId": "aa9f2ed9-2f2a-4ae8-c35f-ae7be031a557"
      },
      "execution_count": 62,
      "outputs": [
        {
          "output_type": "stream",
          "name": "stdout",
          "text": [
            "treatment   No  Yes\n",
            "Gender             \n",
            "Female      77  170\n",
            "Male       538  448\n",
            "Other        4   14\n",
            "Gender\n",
            "Female    68.8\n",
            "Male      45.4\n",
            "Other     77.8\n",
            "dtype: float64\n"
          ]
        },
        {
          "output_type": "display_data",
          "data": {
            "text/plain": [
              "<Figure size 700x500 with 1 Axes>"
            ],
            "image/png": "[encoded data removed]"
          },
          "metadata": {}
        }
      ]
    },
    {
      "cell_type": "code",
      "source": [
        "#Countries with the highest and lowest reported rates of mental health issues in the tech industry.\n",
        "#Highest: Croatia, Moldova, Japan, Denmark, Slovenia (because fewer submissions)\n",
        "#Lowest: Philippines, Nigeria, Spain, Thailand, Uruguay. Similar situation\n",
        "\n",
        "\n",
        "tech = df[df['tech_company'] == 'Yes']\n",
        "\n",
        "# Counts per country\n",
        "country_count = pd.crosstab(tech['Country'], tech['treatment'])\n",
        "\n",
        "# Calculate totals and Yes %\n",
        "country_count['total'] = country_count['Yes'] + country_count['No']\n",
        "country_count['yes_rate'] = (country_count['Yes'] / country_count['total']) * 100\n",
        "\n",
        "sorted_countries = country_count.sort_values(by='yes_rate', ascending=False)\n",
        "\n",
        "print(sorted_countries.head(5)[['Yes','No','total','yes_rate']].round(1))\n",
        "\n",
        "print(sorted_countries.tail(5)[['Yes','No','total','yes_rate']].round(1))\n"
      ],
      "metadata": {
        "colab": {
          "base_uri": "https://localhost:8080/"
        },
        "id": "Qebr7dGx0lHf",
        "outputId": "b57a4269-1771-4a45-85bc-c75471ea35da"
      },
      "execution_count": 67,
      "outputs": [
        {
          "output_type": "stream",
          "name": "stdout",
          "text": [
            "treatment  Yes  No  total  yes_rate\n",
            "Country                            \n",
            "Croatia      2   0      2     100.0\n",
            "Moldova      1   0      1     100.0\n",
            "Japan        1   0      1     100.0\n",
            "Denmark      2   0      2     100.0\n",
            "Slovenia     1   0      1     100.0\n",
            "treatment    Yes  No  total  yes_rate\n",
            "Country                              \n",
            "Philippines    0   1      1       0.0\n",
            "Nigeria        0   1      1       0.0\n",
            "Spain          0   1      1       0.0\n",
            "Thailand       0   1      1       0.0\n",
            "Uruguay        0   1      1       0.0\n"
          ]
        }
      ]
    }
  ]
}