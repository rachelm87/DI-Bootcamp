{
  "nbformat": 4,
  "nbformat_minor": 0,
  "metadata": {
    "colab": {
      "provenance": []
    },
    "kernelspec": {
      "name": "python3",
      "display_name": "Python 3"
    },
    "language_info": {
      "name": "python"
    }
  },
  "cells": [
    {
      "cell_type": "code",
      "execution_count": 1,
      "metadata": {
        "colab": {
          "base_uri": "https://localhost:8080/"
        },
        "id": "wjVqfU53FpvB",
        "outputId": "3cf67e86-c9f5-4642-d2ff-3b9e9a833f38"
      },
      "outputs": [
        {
          "output_type": "stream",
          "name": "stdout",
          "text": [
            "1D Array: [1 2 3 4 5 6 7 8 9]\n",
            "1D Array - Range Method: [1 2 3 4 5 6 7 8 9]\n"
          ]
        }
      ],
      "source": [
        "#Exercise 1: Create a 1D NumPy array containing numbers from 0 to 9.\n",
        "\n",
        "import numpy as np\n",
        "\n",
        "array_1d = np.array([1, 2, 3, 4, 5, 6, 7, 8, 9]) # Creating a 1D NumPy array\n",
        "\n",
        "array_1d2 = np.arange(1, 10) #testing the range alternative so I don't have to type it in the future\n",
        "\n",
        "print(\"1D Array:\", array_1d)\n",
        "\n",
        "print(\"1D Array - Range Method:\", array_1d2)\n",
        "\n",
        "\n"
      ]
    },
    {
      "cell_type": "code",
      "source": [
        "#Exercise 2: Type Conversion and Array Operations\n",
        "\n",
        "this_list = [3.14, 2.17, 0, 1, 2]\n",
        "now_array = np.array(this_list) #Converts list into a NumPy array\n",
        "\n",
        "# printing the type of my_array\n",
        "print(now_array.dtype)\n",
        "\n",
        "intarray = now_array.astype(int) #convert data type to integer\n",
        "\n",
        "print(intarray.dtype)\n",
        "\n"
      ],
      "metadata": {
        "colab": {
          "base_uri": "https://localhost:8080/"
        },
        "id": "fkLlOozcGzEO",
        "outputId": "d206d0cf-931b-4f52-d8d4-76b3fb8256bd"
      },
      "execution_count": 13,
      "outputs": [
        {
          "output_type": "stream",
          "name": "stdout",
          "text": [
            "float64\n",
            "int64\n"
          ]
        }
      ]
    },
    {
      "cell_type": "code",
      "source": [
        "#Exercise 3: Working with Multi-Dimensional Arrays\n",
        "array_3d = np.array([[1, 2, 3], [4, 5, 6], [7, 8, 9]]) #Create a 3x3 NumPy array with values ranging from 1 to 9.\n",
        "print(\"3D Array:\", array_3d)"
      ],
      "metadata": {
        "colab": {
          "base_uri": "https://localhost:8080/"
        },
        "id": "ocQ4a6XCJBsc",
        "outputId": "59e1f004-0220-437c-ece7-45ddf27baec7"
      },
      "execution_count": 16,
      "outputs": [
        {
          "output_type": "stream",
          "name": "stdout",
          "text": [
            "3D Array: [[1 2 3]\n",
            " [4 5 6]\n",
            " [7 8 9]]\n"
          ]
        }
      ]
    },
    {
      "cell_type": "code",
      "source": [
        "#Exercise 4: Create a 2D NumPy array of shape (4, 5) filled with random numbers.\n",
        "\n",
        "np.set_printoptions(suppress=True, precision=2)  #changed to reduce the size\n",
        "\n",
        "randomizer = np.random.random((4,5))\n",
        "\n",
        "print(randomizer)\n"
      ],
      "metadata": {
        "colab": {
          "base_uri": "https://localhost:8080/"
        },
        "id": "pF6zNA5mJ1fj",
        "outputId": "419df559-21ea-45f3-d975-c87e5427f0cd"
      },
      "execution_count": 19,
      "outputs": [
        {
          "output_type": "stream",
          "name": "stdout",
          "text": [
            "[[0.03 0.36 0.4  0.38 0.28]\n",
            " [0.58 0.09 0.61 0.6  0.08]\n",
            " [0.98 0.49 0.46 0.36 0.49]\n",
            " [0.18 0.35 0.29 0.02 0.7 ]]\n"
          ]
        }
      ]
    },
    {
      "cell_type": "code",
      "source": [
        "#Exercise 5 : Indexing Arrays\n",
        "\n",
        "array = np.array([[21,22,23,22,22],[20, 21, 22, 23, 24],[21,22,23,22,22]])\n",
        "\n",
        "print(array)\n",
        "\n",
        "\n",
        "access_array = array[[1]] #access the second row of the array\n",
        "print(\"\\nAccessed Rows :\")\n",
        "print(access_array)"
      ],
      "metadata": {
        "colab": {
          "base_uri": "https://localhost:8080/"
        },
        "id": "PjDDSPPwLGzN",
        "outputId": "4930b0b1-6f3e-475f-c41a-d6dd10782c80"
      },
      "execution_count": 21,
      "outputs": [
        {
          "output_type": "stream",
          "name": "stdout",
          "text": [
            "[[21 22 23 22 22]\n",
            " [20 21 22 23 24]\n",
            " [21 22 23 22 22]]\n",
            "\n",
            "Accessed Rows :\n",
            "[[20 21 22 23 24]]\n"
          ]
        }
      ]
    },
    {
      "cell_type": "code",
      "source": [
        "#Exercise 6 : Reversing elements order in a given 1D NumPy array (first element becomes last).\n",
        "\n",
        "original = np.array([9, 8, 7, 6, 5, 4, 3, 2, 1, 0])\n",
        "\n",
        "reversed_arr = original[::-1] #reversed elements\n",
        "print(reversed_arr) #first is now last\n"
      ],
      "metadata": {
        "colab": {
          "base_uri": "https://localhost:8080/"
        },
        "id": "yXUBr4uGMUYl",
        "outputId": "013bbadb-1c2b-4d16-9128-ef96b773809a"
      },
      "execution_count": 26,
      "outputs": [
        {
          "output_type": "stream",
          "name": "stdout",
          "text": [
            "[0 1 2 3 4 5 6 7 8 9]\n"
          ]
        }
      ]
    },
    {
      "cell_type": "code",
      "source": [
        "#Exercise 7: Create a 4x4 identity matrix using NumPy.\n",
        "\n",
        "imatrix = np.identity(4) #4x4 creation\n",
        "print(imatrix) #meets expected output"
      ],
      "metadata": {
        "colab": {
          "base_uri": "https://localhost:8080/"
        },
        "id": "7Fxb4dsKNpSq",
        "outputId": "60699113-2007-4022-c90a-f4179667e28a"
      },
      "execution_count": 27,
      "outputs": [
        {
          "output_type": "stream",
          "name": "stdout",
          "text": [
            "[[1. 0. 0. 0.]\n",
            " [0. 1. 0. 0.]\n",
            " [0. 0. 1. 0.]\n",
            " [0. 0. 0. 1.]]\n"
          ]
        }
      ]
    },
    {
      "cell_type": "code",
      "source": [
        "#Exercise 8: Find the sum and average of a given 1D array\n",
        "\n",
        "array_1d = np.array([0,1,2,3,4,5,6,7,8,9]) #the exercise didn't give me the array!!\n",
        "\n",
        "print(f\"Sum: {np.sum(array_1d)} and Average: {np.mean(array_1d)}\")"
      ],
      "metadata": {
        "colab": {
          "base_uri": "https://localhost:8080/"
        },
        "id": "To9mCYxvOrxl",
        "outputId": "f0f86dc8-6daf-4531-ce10-47c9a3d55c89"
      },
      "execution_count": 30,
      "outputs": [
        {
          "output_type": "stream",
          "name": "stdout",
          "text": [
            "Sum: 45 and Average: 4.5\n"
          ]
        }
      ]
    },
    {
      "cell_type": "code",
      "source": [
        "#Exercise 9: Create a NumPy array with elements from 1 to 20; then reshape it into a 4x5 matrix.\n",
        "\n",
        "array_1d = np.arange(1, 21) #created the array\n",
        "print(array_1d)\n",
        "\n",
        "reshaping = array_1d.reshape(4, 5)\n",
        "print(reshaping) #should be a 4x5 matrix\n",
        "\n"
      ],
      "metadata": {
        "colab": {
          "base_uri": "https://localhost:8080/"
        },
        "id": "CEtpC1i4QX80",
        "outputId": "4ce270f4-911b-441a-b7ae-3e13c8d48941"
      },
      "execution_count": 32,
      "outputs": [
        {
          "output_type": "stream",
          "name": "stdout",
          "text": [
            "[ 1  2  3  4  5  6  7  8  9 10 11 12 13 14 15 16 17 18 19 20]\n",
            "[[ 1  2  3  4  5]\n",
            " [ 6  7  8  9 10]\n",
            " [11 12 13 14 15]\n",
            " [16 17 18 19 20]]\n"
          ]
        }
      ]
    },
    {
      "cell_type": "code",
      "source": [
        "#Exercise 10: Extract all odd numbers from a given NumPy array.\n",
        "\n",
        "original = np.array([0,1,2,3,4,5,6,7,8,9])\n",
        "\n",
        "updated_array = original[original % 2 == 1]\n",
        "\n",
        "print(updated_array)"
      ],
      "metadata": {
        "colab": {
          "base_uri": "https://localhost:8080/"
        },
        "id": "ANzEqOzSQxx7",
        "outputId": "a81db974-751f-4415-f736-90cfe5eec85c"
      },
      "execution_count": 34,
      "outputs": [
        {
          "output_type": "stream",
          "name": "stdout",
          "text": [
            "[1 3 5 7 9]\n"
          ]
        }
      ]
    }
  ]
}