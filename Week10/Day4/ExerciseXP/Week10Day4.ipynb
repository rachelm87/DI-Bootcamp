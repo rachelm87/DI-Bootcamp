{
  "nbformat": 4,
  "nbformat_minor": 0,
  "metadata": {
    "colab": {
      "provenance": []
    },
    "kernelspec": {
      "name": "python3",
      "display_name": "Python 3"
    },
    "language_info": {
      "name": "python"
    }
  },
  "cells": [
    {
      "cell_type": "code",
      "execution_count": 8,
      "metadata": {
        "colab": {
          "base_uri": "https://localhost:8080/"
        },
        "id": "dH6xf8sXVl-s",
        "outputId": "a30e5313-fc72-471d-d6bd-35fdb2b23804"
      },
      "outputs": [
        {
          "output_type": "stream",
          "name": "stdout",
          "text": [
            "[[6 6 8]\n",
            " [9 2 7]\n",
            " [6 4 7]]\n",
            "-18.00000000000002\n",
            "[[ 1.  1. -1.]\n",
            " [ 1.  0. -2.]\n",
            " [-1. -1.  2.]]\n"
          ]
        }
      ],
      "source": [
        "#Exercise 1 : Matrix Operations\n",
        "## Create a 3x3 matrix and perform the following operations:\n",
        "import numpy as np\n",
        "np.set_printoptions(precision=0, suppress=True)\n",
        "\n",
        "matrix = np.random.randint(1, 10, size=(3, 3))  #create a random 3x3 matrix\n",
        "print(matrix)\n",
        "\n",
        "determinant = np.linalg.det(matrix) ## Calculate the determinant.\n",
        "print(determinant)\n",
        "\n",
        "inverse_matrix = np.linalg.inv(matrix) ## Find the inverse of the matrix.\n",
        "print(inverse_matrix)\n"
      ]
    },
    {
      "cell_type": "code",
      "source": [
        "#Exercise 2: Statistical Analysis\n",
        "import numpy as np\n",
        "np.set_printoptions(precision=0, suppress=True)\n",
        "\n",
        "array = np.random.randint(1, 51, size=50)  #create an array of 50 random numbers\n",
        "print(array)\n",
        "\n",
        "\n",
        "array_mean = np.mean(array)\n",
        "array_median = np.median(array)\n",
        "array_stddev = np.std(array)\n",
        "\n",
        "print(f\"Array Mean: {array_mean}, Array Median: {array_median}, and Array Standard Dev: {array_stddev}\")"
      ],
      "metadata": {
        "colab": {
          "base_uri": "https://localhost:8080/"
        },
        "id": "SVAydkgTXq_1",
        "outputId": "59c7e3ba-0393-4623-cb6e-fafc17e579e0"
      },
      "execution_count": 11,
      "outputs": [
        {
          "output_type": "stream",
          "name": "stdout",
          "text": [
            "[28  7 32  1 45  2 13 48 36 43  9 18 39  2 20 34 11 16 33 19 27 44 39 41\n",
            " 41 35 17 17 49  8 33 40  6 17 14 14 19 32 45 40  6 35 42  8 35 33 40 29\n",
            " 30  1]\n",
            "Array Mean: 25.86, Array Median: 29.5, and Array Standard Dev: 14.393067775842646\n"
          ]
        }
      ]
    },
    {
      "cell_type": "code",
      "source": [
        "#Exercise 3 : Date Manipulation\n",
        "dates = np.arange(1, 32)\n",
        "print(dates)\n",
        "\n",
        "formatted_dates = []\n",
        "\n",
        "for day in dates:\n",
        "    day_str = f\"{day:02d}\"\n",
        "    date_str = \"2023-01-\" + day_str\n",
        "    formatted_dates.append(date_str)\n",
        "\n",
        "print(formatted_dates) #Convert these dates to another format (e.g., YYYY/MM/DD)\n",
        "\n",
        "print(type(formatted_dates)) #checking data type\n",
        "\n",
        "datetime_confirm = np.array(formatted_dates, dtype='datetime64[D]')\n",
        "print(datetime_confirm)\n",
        "\n",
        "print(type(datetime_confirm))\n",
        "print(datetime_confirm.dtype) #confirming that i changed it!"
      ],
      "metadata": {
        "colab": {
          "base_uri": "https://localhost:8080/"
        },
        "id": "vWnLhcjPYob3",
        "outputId": "2ac9b4ec-ac67-43ba-c7f6-cea9dfb192ca"
      },
      "execution_count": 27,
      "outputs": [
        {
          "output_type": "stream",
          "name": "stdout",
          "text": [
            "[ 1  2  3  4  5  6  7  8  9 10 11 12 13 14 15 16 17 18 19 20 21 22 23 24\n",
            " 25 26 27 28 29 30 31]\n",
            "['2023-01-01', '2023-01-02', '2023-01-03', '2023-01-04', '2023-01-05', '2023-01-06', '2023-01-07', '2023-01-08', '2023-01-09', '2023-01-10', '2023-01-11', '2023-01-12', '2023-01-13', '2023-01-14', '2023-01-15', '2023-01-16', '2023-01-17', '2023-01-18', '2023-01-19', '2023-01-20', '2023-01-21', '2023-01-22', '2023-01-23', '2023-01-24', '2023-01-25', '2023-01-26', '2023-01-27', '2023-01-28', '2023-01-29', '2023-01-30', '2023-01-31']\n",
            "<class 'list'>\n",
            "['2023-01-01' '2023-01-02' '2023-01-03' '2023-01-04' '2023-01-05'\n",
            " '2023-01-06' '2023-01-07' '2023-01-08' '2023-01-09' '2023-01-10'\n",
            " '2023-01-11' '2023-01-12' '2023-01-13' '2023-01-14' '2023-01-15'\n",
            " '2023-01-16' '2023-01-17' '2023-01-18' '2023-01-19' '2023-01-20'\n",
            " '2023-01-21' '2023-01-22' '2023-01-23' '2023-01-24' '2023-01-25'\n",
            " '2023-01-26' '2023-01-27' '2023-01-28' '2023-01-29' '2023-01-30'\n",
            " '2023-01-31']\n",
            "<class 'numpy.ndarray'>\n",
            "datetime64[D]\n"
          ]
        }
      ]
    },
    {
      "cell_type": "code",
      "source": [
        "#Option B Datetime\n",
        "\n",
        "# Creating date ranges\n",
        "dates = np.arange('2023-01', '2023-02', dtype='datetime64[D]')\n",
        "print(\"January 2023 Dates:\\n\", dates)\n",
        "formatted_dates = np.datetime_as_string(dates, unit='D')\n",
        "print(\"Formatted Dates:\\n\", formatted_dates)"
      ],
      "metadata": {
        "colab": {
          "base_uri": "https://localhost:8080/"
        },
        "id": "YvCcBrMTZPy2",
        "outputId": "0f5c5781-b5b2-4ff1-b072-08546a24c3c1"
      },
      "execution_count": 29,
      "outputs": [
        {
          "output_type": "stream",
          "name": "stdout",
          "text": [
            "January 2023 Dates:\n",
            " ['2023-01-01' '2023-01-02' '2023-01-03' '2023-01-04' '2023-01-05'\n",
            " '2023-01-06' '2023-01-07' '2023-01-08' '2023-01-09' '2023-01-10'\n",
            " '2023-01-11' '2023-01-12' '2023-01-13' '2023-01-14' '2023-01-15'\n",
            " '2023-01-16' '2023-01-17' '2023-01-18' '2023-01-19' '2023-01-20'\n",
            " '2023-01-21' '2023-01-22' '2023-01-23' '2023-01-24' '2023-01-25'\n",
            " '2023-01-26' '2023-01-27' '2023-01-28' '2023-01-29' '2023-01-30'\n",
            " '2023-01-31']\n",
            "Formatted Dates:\n",
            " ['2023-01-01' '2023-01-02' '2023-01-03' '2023-01-04' '2023-01-05'\n",
            " '2023-01-06' '2023-01-07' '2023-01-08' '2023-01-09' '2023-01-10'\n",
            " '2023-01-11' '2023-01-12' '2023-01-13' '2023-01-14' '2023-01-15'\n",
            " '2023-01-16' '2023-01-17' '2023-01-18' '2023-01-19' '2023-01-20'\n",
            " '2023-01-21' '2023-01-22' '2023-01-23' '2023-01-24' '2023-01-25'\n",
            " '2023-01-26' '2023-01-27' '2023-01-28' '2023-01-29' '2023-01-30'\n",
            " '2023-01-31']\n"
          ]
        }
      ]
    },
    {
      "cell_type": "code",
      "source": [
        "#Exercise 4: Data Manipulation with NumPy and Pandas\n",
        "import pandas as pd\n",
        "#Create a DataFrame with random numbers\n",
        "\n",
        "eaten = pd.DataFrame(np.random.randint(1, 101, size=(100, 4)), columns=['Apples', 'Oranges', 'Bananas', 'Pears'])\n",
        "\n",
        "\n",
        "print(eaten.head())\n",
        "fruitswithvowels = eaten.columns[eaten.columns.str.startswith(('A', 'O'))]\n",
        "\n",
        "evenfruits = (eaten[fruitswithvowels] % 2 == 0).all(axis=1)\n",
        "filtered = eaten.loc[evenfruits,fruitswithvowels]\n",
        "print(filtered) # Conditional selection of data.\n",
        "print(filtered.sum())\n",
        "print(filtered.median())# Aggregation functions like sum and average.\n",
        "\n",
        "\n"
      ],
      "metadata": {
        "colab": {
          "base_uri": "https://localhost:8080/"
        },
        "id": "hzrrORHscIWm",
        "outputId": "2b4e7c83-599d-4467-c935-7f00c53c19c0"
      },
      "execution_count": 54,
      "outputs": [
        {
          "output_type": "stream",
          "name": "stdout",
          "text": [
            "   Apples  Oranges  Bananas  Pears\n",
            "0      59       63       40     29\n",
            "1      51       41       90     53\n",
            "2      78       58       91     45\n",
            "3      65       61        5     80\n",
            "4      93       35       42     90\n",
            "    Apples  Oranges\n",
            "2       78       58\n",
            "11      14       74\n",
            "12      76       20\n",
            "14      94       94\n",
            "15      82       40\n",
            "16      14       90\n",
            "18      48        8\n",
            "19      48       56\n",
            "20       6       58\n",
            "21      94        4\n",
            "26     100        4\n",
            "31      82       86\n",
            "32      92       58\n",
            "41      68       78\n",
            "46      10       24\n",
            "53      76       68\n",
            "54      12       14\n",
            "59      68       12\n",
            "64      86       68\n",
            "66      80       56\n",
            "67      16       78\n",
            "68      24       34\n",
            "71      96       38\n",
            "80      94       42\n",
            "81       8       80\n",
            "83      44       40\n",
            "87      44       64\n",
            "89      30       52\n",
            "92      16       12\n",
            "95      66       28\n",
            "98      72        8\n",
            "Apples     1738\n",
            "Oranges    1446\n",
            "dtype: int64\n",
            "Apples     68.0\n",
            "Oranges    52.0\n",
            "dtype: float64\n"
          ]
        }
      ]
    },
    {
      "cell_type": "code",
      "source": [
        "#Exercise 5 : Image Representation\n",
        "#the NumPy array is basically a grid with each number representing a specific pixel. we can manipulate the number to adjust/develop/change the image.\n",
        "\n",
        "from PIL import Image\n",
        "import numpy as np\n",
        "import matplotlib.pyplot as plt\n",
        "image = np.full((5,5), 255, dtype=np.uint8) #size, white background, datatype\n",
        "image[2, 2] = 0   # row 2, column 2 (center of 5x5)\n",
        "\n",
        "print(f\"White image with black dot {image}\")\n",
        "\n",
        "plt.imshow(image, cmap='gray', vmin=0, vmax=255)\n",
        "plt.show()\n",
        "\n"
      ],
      "metadata": {
        "colab": {
          "base_uri": "https://localhost:8080/",
          "height": 522
        },
        "id": "wmKPTajVinXj",
        "outputId": "33457e68-ed20-4c0a-900e-1ab728acb44b"
      },
      "execution_count": 57,
      "outputs": [
        {
          "output_type": "stream",
          "name": "stdout",
          "text": [
            "White image with black dot [[255 255 255 255 255]\n",
            " [255 255 255 255 255]\n",
            " [255 255   0 255 255]\n",
            " [255 255 255 255 255]\n",
            " [255 255 255 255 255]]\n"
          ]
        },
        {
          "output_type": "display_data",
          "data": {
            "text/plain": [
              "<Figure size 640x480 with 1 Axes>"
            ],
            "image/png": "[encoded data removed]"
          },
          "metadata": {}
        }
      ]
    },
    {
      "cell_type": "code",
      "source": [
        "#Exercise 6: Employee Productivity\n",
        "\n",
        "import numpy as np\n",
        "from scipy import stats\n",
        "\n",
        "# Productivity scores of employees before the training program\n",
        "productivity_before = np.random.normal(loc=50, scale=10, size=30)\n",
        "\n",
        "# Productivity scores of the same employees after the training program\n",
        "productivity_after = productivity_before + np.random.normal(loc=5, scale=3, size=30)\n",
        "\n",
        "#formulate a hypothesis regarding the training program's effectiveness\n",
        "# and test it using basic statistical functions in NumPy.\n",
        "\n",
        "\n",
        "\n",
        "t_statistic, p_value = stats.ttest_rel(productivity_after, productivity_before)\n",
        "\n",
        "print(f\"T-statistic: {t_statistic:.3f}\")\n",
        "print(f\"P-value: {p_value:.5f}\")\n",
        "\n",
        "#Hypothesis:\n",
        "# H0: Training has no effect (mean_before = mean_after)\n",
        "# H1: Training increases productivity (mean_after > mean_before)\n",
        "\n",
        "# Interpreting the result\n",
        "alpha = 0.05  # Significance level\n",
        "if p_value < alpha:\n",
        "    print(\"Reject the null hypothesis\")\n",
        "else:\n",
        "    print(\"Fail to reject the null hypothesis\")"
      ],
      "metadata": {
        "colab": {
          "base_uri": "https://localhost:8080/"
        },
        "id": "cARIMerxksbY",
        "outputId": "fe0e328c-ddc4-4912-b7be-02906933fab4"
      },
      "execution_count": 58,
      "outputs": [
        {
          "output_type": "stream",
          "name": "stdout",
          "text": [
            "T-statistic: 8.142\n",
            "P-value: 0.00000\n",
            "Reject the null hypothesis\n"
          ]
        }
      ]
    },
    {
      "cell_type": "code",
      "source": [
        "#Exercise 7 : Complex Array Comparison\n",
        "\n",
        "#Create two arrays and perform element-wise comparison to find which elements are greater in the first array.\n",
        "array1 = np.array([10, 25, 30, 45, 60])\n",
        "array2 = np.array([15, 20, 30, 50, 55])\n",
        "\n",
        "comparison = array1 > array2\n",
        "print(comparison)#get expected boolean outputs"
      ],
      "metadata": {
        "colab": {
          "base_uri": "https://localhost:8080/"
        },
        "id": "yzfKejTImgm5",
        "outputId": "ddbba5e0-abed-4930-8743-a3c02df131ca"
      },
      "execution_count": 59,
      "outputs": [
        {
          "output_type": "stream",
          "name": "stdout",
          "text": [
            "[False  True False False  True]\n"
          ]
        }
      ]
    },
    {
      "cell_type": "code",
      "source": [
        "#Exercise8: Time Series Data Manipulation\n",
        "# Generate time series data for the year 2023. Demonstrate slicing for the following intervals:\n",
        "\n",
        "dates = np.arange('2023-01-01', '2024-01-01', dtype='datetime64[D]')\n",
        "\n",
        "quarterone = dates[0:90]\n",
        "quartertwo = dates[90:181]\n",
        "quarterthree = dates[181:273]\n",
        "quarterfour = dates[273:365]\n",
        "\n",
        "print(\"Q1:\", quarterone[0], \"to\", quarterone[-1])\n",
        "print(\"Q2:\", quartertwo[0], \"to\", quartertwo[-1])\n",
        "print(\"Q3:\", quarterthree[0], \"to\", quarterthree[-1])\n",
        "print(\"Q4:\", quarterfour[0], \"to\", quarterfour[-1])\n"
      ],
      "metadata": {
        "colab": {
          "base_uri": "https://localhost:8080/"
        },
        "id": "yiNUAXThnxlS",
        "outputId": "863842cf-6a80-460d-de8b-3e64ef055deb"
      },
      "execution_count": 61,
      "outputs": [
        {
          "output_type": "stream",
          "name": "stdout",
          "text": [
            "Q1: 2023-01-01 to 2023-03-31\n",
            "Q2: 2023-04-01 to 2023-06-30\n",
            "Q3: 2023-07-01 to 2023-09-30\n",
            "Q4: 2023-10-01 to 2023-12-31\n"
          ]
        }
      ]
    },
    {
      "cell_type": "code",
      "source": [
        "#Exercise 9 : Data Conversion Demonstrate how to convert a NumPy array to a Pandas DataFrame and vice versa.\n",
        "\n",
        "array = np.random.randint(1, 51, 3)  #create an array\n",
        "print(array)\n",
        "\n",
        "data = pd.DataFrame(array) #convert to DataFrame\n",
        "print(data.head())\n",
        "data\n",
        "\n",
        "data.to_numpy() #convert to NumPy"
      ],
      "metadata": {
        "colab": {
          "base_uri": "https://localhost:8080/"
        },
        "id": "dycIsvFZq-s1",
        "outputId": "af0b5004-2037-40d1-c6a1-6ef55e6ea120"
      },
      "execution_count": 69,
      "outputs": [
        {
          "output_type": "stream",
          "name": "stdout",
          "text": [
            "[45 27 32]\n",
            "    0\n",
            "0  45\n",
            "1  27\n",
            "2  32\n"
          ]
        },
        {
          "output_type": "execute_result",
          "data": {
            "text/plain": [
              "array([[45],\n",
              "       [27],\n",
              "       [32]])"
            ]
          },
          "metadata": {},
          "execution_count": 69
        }
      ]
    },
    {
      "cell_type": "code",
      "source": [
        "#Exercise 10 : Basic Visualization - Use Matplotlib to visualize a simple dataset created with NumPy (e.g., a line graph of random numbers\n",
        "\n",
        "np.random.seed(0)\n",
        "dataset = np.random.randint(0, 100, size=(20, 2))\n",
        "print(dataset)\n",
        "\n",
        "x = dataset[:, 0] #xvalues\n",
        "y = dataset[:, 1]  #yvalues\n",
        "\n",
        "plt.plot(x, y, label='Random Data')\n",
        "plt.show()"
      ],
      "metadata": {
        "colab": {
          "base_uri": "https://localhost:8080/",
          "height": 797
        },
        "id": "cVV-A6w9q2h6",
        "outputId": "efe6fe44-3cd6-4630-eaf1-ef8861b1fc85"
      },
      "execution_count": 75,
      "outputs": [
        {
          "output_type": "stream",
          "name": "stdout",
          "text": [
            "[[44 47]\n",
            " [64 67]\n",
            " [67  9]\n",
            " [83 21]\n",
            " [36 87]\n",
            " [70 88]\n",
            " [88 12]\n",
            " [58 65]\n",
            " [39 87]\n",
            " [46 88]\n",
            " [81 37]\n",
            " [25 77]\n",
            " [72  9]\n",
            " [20 80]\n",
            " [69 79]\n",
            " [47 64]\n",
            " [82 99]\n",
            " [88 49]\n",
            " [29 19]\n",
            " [19 14]]\n"
          ]
        },
        {
          "output_type": "display_data",
          "data": {
            "text/plain": [
              "<Figure size 640x480 with 1 Axes>"
            ],
            "image/png": "[encoded data removed]"
          },
          "metadata": {}
        }
      ]
    }
  ]
}